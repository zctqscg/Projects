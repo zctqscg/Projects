{
 "cells": [
  {
   "cell_type": "code",
   "execution_count": 1,
   "id": "cab2b3df",
   "metadata": {},
   "outputs": [],
   "source": [
    "import pandas as pd\n",
    "import numpy as np\n",
    "import re\n",
    "import plotly.express as px\n",
    "import plotly\n",
    "pd.set_option(\"display.max_columns\", None)\n",
    "pd.set_option(\"display.max_rows\", None)"
   ]
  },
  {
   "cell_type": "code",
   "execution_count": null,
   "id": "8ba211b3",
   "metadata": {},
   "outputs": [],
   "source": [
    "c=c.sort_values([], ascending=[True, False, False]).drop_duplicates()',keep='first')\n",
    "df=c.merge(a, how='left',left_on='',right_on='')\n",
    "df=df[~df.fit_digital_futures_fit.isna()]"
   ]
  },
  {
   "cell_type": "code",
   "execution_count": null,
   "id": "28e7c094",
   "metadata": {},
   "outputs": [],
   "source": [
    "from scipy.stats import iqr \n",
    "def q1(x):\n",
    "    return x.quantile(0.25)\n",
    "def q3(x):\n",
    "    return x.quantile(0.75)"
   ]
  },
  {
   "cell_type": "code",
   "execution_count": null,
   "id": "bc5c78d4",
   "metadata": {},
   "outputs": [],
   "source": [
    "d=df.groupby('company').agg({'score':['count','mean','median',q1, q3],'fit_cognitive_off_the_shelf':['mean','median', q1, q3]}).add_prefix('').reset_index().round() #.unstack().to_frame()      \n",
    "#d['IQR_fit'] = df['company'].map(df.groupby('company')['score'].agg(iqr)) \n",
    "d=d.replace('','')\n",
    "l=['', 'Count','mean','median','Q1','Q3','mean','median','Q1','Q3']\n",
    "d=pd.concat([pd.DataFrame([l], columns=d.columns), d], ignore_index=True)"
   ]
  },
  {
   "cell_type": "code",
   "execution_count": null,
   "id": "3c571f01",
   "metadata": {},
   "outputs": [],
   "source": [
    "import plotly.figure_factory as ff\n",
    "d=df.groupby('company').agg({'score':['count','mean','median',q1, q3],'score':['mean','median', q1, q3]}).add_prefix('fit').reset_index().round()#.unstack().to_frame()     \n",
    "d.columns = d.columns.map(''.join)\n",
    "d.columns=[]\n",
    "l=['', 'Count','mean','median','Q1','Q3','mean','median','Q1','Q3']\n",
    "d=pd.concat([pd.DataFrame([l], columns=d.columns), d], ignore_index=True)\n",
    "\n",
    "##table\n",
    "b=[]\n",
    "for item in [list]:\n",
    "    b.append('<b>' + item + '</b>')\n",
    "d.loc[len(d.index)] =b\n",
    "b=[]\n",
    "for item in ['', 'Count','mean','median','Q1','Q3','mean','median','Q1','Q3']:\n",
    "    b.append('<b>' + item + '</b>')\n",
    "d.loc[0]=b\n",
    "fig = ff.create_table(d,height_constant=20)\n",
    "\n",
    "##boxplots\n",
    "df=df.sort_values('company',ascending=False)\n",
    "fig.add_trace(go.Box(x=score, y=company, name=\"Score\",marker_color=c[4],xaxis='x2', yaxis='y2'))#marker_color= \"red\"))\n",
    "\n",
    "fig.add_trace(go.Box(x=score2, y=company, name=\"Score\",  marker_color=c[5],xaxis='x2', yaxis='y2'))\n",
    "\n",
    "#fig.add_trace(go.Box(y=y3, x=x_axis, name=\"Third\", marker_color= \"yellow\"))\n",
    "fig.update_layout(title_text='<b>title</b>')#, title_x=0.5)\n",
    "fig.update_layout(boxmode=\"group\")\n",
    "fig.update_traces(orientation='h',selector=dict(type='box'))\n",
    "fig.update_traces(marker_size=2, selector=dict(type='box'))\n",
    "fig.update_traces(boxmean=True,selector=dict(type='box'))\n",
    "fig.update_traces(boxpoints='all',selector=dict(type='box'))\n",
    "#fig['layout']['xaxis'].update(range=[-10,110])  \n",
    "fig.update_layout(\n",
    "    autosize=False,\n",
    "    width=1200,\n",
    "    height=750,\n",
    ")\n",
    "fig.update_layout(legend_traceorder=\"reversed\",legend=dict(yanchor=\"top\", y=1, xanchor=\"right\", x=1))\n",
    "fig.update_layout(\n",
    "    margin = dict(l=50, r=20, t=50, b=50),\n",
    "        xaxis = {'domain': [0, .5]},\n",
    "    xaxis2 = {'domain': [0.6, 1.]},\n",
    "    yaxis2 = {'anchor': 'x2'}\n",
    "\n",
    "                 \n",
    ")\n",
    "#fig.update_layout(hovermode=\"y unified\")\n",
    "#fig.update_layout(hovermode=\"y\")\n",
    "fig.show()"
   ]
  },
  {
   "cell_type": "code",
   "execution_count": null,
   "id": "0f8dd81d",
   "metadata": {},
   "outputs": [],
   "source": [
    "##without table\n",
    "import plotly.figure_factory as ff\n",
    "d=df.groupby('ethnicity').agg({'score1':['count','mean','median',q1, q3],'score2':['mean','median', q1, q3]}).add_prefix('fit').reset_index().round()#.unstack().to_frame()     \n",
    "#d['IQR_fit'] = df['ethnicity'].map(df.groupby('ethnicity')['fit_digital_futures_fit'].agg(iqr))\n",
    "d=d.replace('Prefer not to say','PNTS')\n",
    "d.columns = d.columns.map(''.join)\n",
    "d.columns=['Ethnicity', '','cognitive','','','','fit','','','']\n",
    "l=['', 'Count','mean','median','Q1','Q3','mean','median','Q1','Q3']\n",
    "d=pd.concat([pd.DataFrame([l], columns=d.columns), d], ignore_index=True)\n",
    "\n",
    "fig = go.Figure()\n",
    "\n",
    "\n",
    "df=df.sort_values('ethnicity',ascending=False)\n",
    "\n",
    "fig.add_trace(go.Box(x=score1, y=company, name=\"Score\",marker_color=c[4],xaxis='x2', yaxis='y2'))#marker_color= \"red\"))\n",
    "fig.add_trace(go.Box(x=score2, y=company, name=\"Score\",  marker_color=c[5],xaxis='x2', yaxis='y2'))\n",
    "\n",
    "#fig.add_trace(go.Box(y=y3, x=x_axis, name=\"Third\", marker_color= \"yellow\"))\n",
    "fig.update_layout(title_text='<b>title</b>')#, title_x=0.5)\n",
    "fig.update_layout(boxmode=\"group\")\n",
    "fig.update_traces(orientation='h',selector=dict(type='box'))\n",
    "fig.update_traces(marker_size=2, selector=dict(type='box'))\n",
    "fig.update_traces(boxmean=True,selector=dict(type='box'))\n",
    "fig.update_traces(boxpoints='all',selector=dict(type='box'))\n",
    "#fig['layout']['xaxis'].update(range=[-10,110])  \n",
    "fig.update_layout(\n",
    "    autosize=False,\n",
    "    width=1200,\n",
    "    height=750,\n",
    ")\n",
    "fig.update_layout(legend_traceorder=\"reversed\",legend=dict(yanchor=\"top\", y=1, xanchor=\"right\", x=1))"
   ]
  },
  {
   "cell_type": "code",
   "execution_count": null,
   "id": "f010c8e8",
   "metadata": {},
   "outputs": [],
   "source": [
    "for col in df:\n",
    "  fig.add_trace(go.Box(y=df[col].values, name=df[col].name))"
   ]
  },
  {
   "cell_type": "code",
   "execution_count": null,
   "id": "71d4e5d1",
   "metadata": {},
   "outputs": [],
   "source": [
    "def figures_to_html(figs, filename=\".html\"):\n",
    "    with open(filename, 'w') as dashboard:\n",
    "        dashboard.write(\"<html><head></head><body>\" + \"\\n\")\n",
    "        for fig in figs:\n",
    "            inner_html = fig.to_html().split('<body>')[1].split('</body>')[0]\n",
    "            dashboard.write(inner_html)\n",
    "        dashboard.write(\"</body></html>\" )\n",
    "\n",
    "figures_to_html([fig,tab_a,fig_2,tab_a,fig_3])"
   ]
  }
 ],
 "metadata": {
  "kernelspec": {
   "display_name": "Python 3",
   "language": "python",
   "name": "python3"
  },
  "language_info": {
   "codemirror_mode": {
    "name": "ipython",
    "version": 3
   },
   "file_extension": ".py",
   "mimetype": "text/x-python",
   "name": "python",
   "nbconvert_exporter": "python",
   "pygments_lexer": "ipython3",
   "version": "3.9.7"
  }
 },
 "nbformat": 4,
 "nbformat_minor": 5
}
